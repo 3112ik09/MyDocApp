{
 "cells": [
  {
   "cell_type": "code",
   "execution_count": 40,
   "metadata": {},
   "outputs": [],
   "source": [
    "import pandas as pd \n",
    "from sklearn.model_selection import train_test_split\n",
    "from sklearn.ensemble import RandomForestClassifier\n",
    "from sklearn import metrics\n",
    "df=pd.read_csv('pre_processed.csv')\n",
    "X=df.drop(['Disease'], axis=1)\n",
    "y=df.iloc[:,-1]\n",
    "import joblib\n",
    "X_train, X_test, y_train, y_test = train_test_split(X,y,test_size=0.3,random_state=216)\n",
    "from joblib import load\n",
    "forest=RandomForestClassifier(n_estimators=32)\n",
    "forest.fit(X_train,y_train)\n",
    "pred=forest.predict(X_test)\n",
    "joblib.dump(forest,\"random_forest.joblib\")\n",
    "import numpy as np"
   ]
  },
  {
   "cell_type": "code",
   "execution_count": 41,
   "metadata": {},
   "outputs": [
    {
     "name": "stdout",
     "output_type": "stream",
     "text": [
      "Accuracy: 1.0\n"
     ]
    }
   ],
   "source": [
    "print(\"Accuracy:\",metrics.accuracy_score(y_test, pred))"
   ]
  },
  {
   "cell_type": "code",
   "execution_count": 42,
   "metadata": {},
   "outputs": [],
   "source": [
    "symptoms = {'abdominal pain': 0,'abnormal menstruation': 0,'acidity': 0,'acute liver failure': 0,'altered sensorium': 0,'anxiety': 0,'back pain': 0,'belly pain': 0,'blackheads': 0,'bladder discomfort': 0,\n",
    "'blister': 0,'blood in sputum': 0,'bloody stool': 0,'blurred and distorted vision': 0,'breathlessness': 0,'brittle nails': 0,'bruising': 0,'burning micturition': 0,'chest pain': 0,'chills': 0,\n",
    "'cold hands and feets': 0,'coma': 0,'congestion': 0,'constipation': 0,'continuous feel of urine': 0,'continuous sneezing': 0,'cough': 0,'cramps': 0,'dark urine': 0,'dehydration': 0,\n",
    "'depression': 0,'diarrhoea': 0,'dischromic  patches': 0,'distention of abdomen': 0,'dizziness': 0,'drying and tingling lips': 0,'enlarged thyroid': 0,'excessive hunger': 0,'extra marital contacts': 0,'family history': 0,\n",
    "'fast heart rate': 0,'fatigue': 0,'fluid overload': 0,'foul smell of urine': 0,'headache': 0,'high fever': 0,'hip joint pain': 0,'history of alcohol consumption': 0,'increased appetite': 0,'indigestion': 0,\n",
    "'inflammatory nails': 0,'internal itching': 0,'irregular sugar level': 0,'irritability': 0,'irritation in anus': 0,'joint pain': 0,'knee pain': 0,'lack of concentration': 0,'lethargy': 0,'loss of appetite': 0,\n",
    "'loss of balance': 0,'loss of smell': 0,'malaise': 0,'mild fever': 0,'mood swings': 0,'movement stiffness': 0,'mucoid sputum': 0,'muscle pain': 0,'muscle wasting': 0,'muscle weakness': 0,\n",
    "'nausea': 0,'neck pain': 0,'nodal skin eruptions': 0,'obesity': 0,'pain behind the eyes': 0,'pain during bowel movements': 0,'pain in anal region': 0,'painful walking': 0,'palpitations': 0,'passage of gases': 0,\n",
    "'patches in throat': 0,'phlegm': 0,'polyuria': 0,'prominent veins on calf': 0,'puffy face and eyes': 0,'pus filled pimples': 0,'receiving blood transfusion': 0,'receiving unsterile injections': 0,'red sore around nose': 0,'red spots over body': 0,\n",
    "'redness of eyes': 0,'restlessness': 0,'runny nose': 0,'rusty sputum': 0,'scurring': 0,'shivering': 0,'silver like dusting': 0,'sinus pressure': 0,'skin peeling': 0,'skin rash': 0,\n",
    "'slurred speech': 0,'small dents in nails': 0,'spinning movements': 0,'spotting urination': 0,'stiff neck': 0,'stomach bleeding': 0,'stomach pain': 0,'sunken eyes': 0,'sweating': 0,'swelled lymph nodes': 0,\n",
    "'swelling joints': 0,'swelling of stomach': 0,'swollen blood vessels': 0,'swollen extremeties': 0,'swollen legs': 0,'throat irritation': 0,'toxic look (typhos)': 0,'ulcers on tongue': 0,'unsteadiness': 0,'visual disturbances': 0,\n",
    "'vomiting': 0,'watering from eyes': 0,'weakness in limbs': 0,'weakness of one body side': 0,'weight gain': 0,'weight loss': 0,'yellow crust ooze': 0,'yellow urine': 0,'yellowing of eyes': 0,'yellowish skin': 0,\n",
    "'itching': 0}"
   ]
  },
  {
   "cell_type": "code",
   "execution_count": 43,
   "metadata": {},
   "outputs": [],
   "source": [
    "df_test = pd.DataFrame(columns=list(symptoms.keys()))\n",
    "df_test.loc[0] = np.array(list(symptoms.values()))"
   ]
  },
  {
   "cell_type": "code",
   "execution_count": 44,
   "metadata": {},
   "outputs": [],
   "source": [
    "df_test['continuous sneezing']=1"
   ]
  },
  {
   "cell_type": "code",
   "execution_count": 45,
   "metadata": {},
   "outputs": [],
   "source": [
    "# df_test.loc[0]"
   ]
  },
  {
   "cell_type": "code",
   "execution_count": 46,
   "metadata": {},
   "outputs": [],
   "source": [
    "df_test['continuous sneezing']=1"
   ]
  },
  {
   "cell_type": "code",
   "execution_count": 47,
   "metadata": {},
   "outputs": [],
   "source": [
    "clf = load(str(\"random_forest.joblib\"))\n",
    "result = clf.predict(df_test)"
   ]
  },
  {
   "cell_type": "code",
   "execution_count": 48,
   "metadata": {},
   "outputs": [
    {
     "data": {
      "text/plain": [
       "array(['Allergy'], dtype=object)"
      ]
     },
     "execution_count": 48,
     "metadata": {},
     "output_type": "execute_result"
    }
   ],
   "source": [
    "result"
   ]
  },
  {
   "cell_type": "code",
   "execution_count": 23,
   "metadata": {},
   "outputs": [
    {
     "data": {
      "text/html": [
       "<div>\n",
       "<style scoped>\n",
       "    .dataframe tbody tr th:only-of-type {\n",
       "        vertical-align: middle;\n",
       "    }\n",
       "\n",
       "    .dataframe tbody tr th {\n",
       "        vertical-align: top;\n",
       "    }\n",
       "\n",
       "    .dataframe thead th {\n",
       "        text-align: right;\n",
       "    }\n",
       "</style>\n",
       "<table border=\"1\" class=\"dataframe\">\n",
       "  <thead>\n",
       "    <tr style=\"text-align: right;\">\n",
       "      <th></th>\n",
       "      <th>abdominal pain</th>\n",
       "      <th>abnormal menstruation</th>\n",
       "      <th>acidity</th>\n",
       "      <th>acute liver failure</th>\n",
       "      <th>altered sensorium</th>\n",
       "      <th>anxiety</th>\n",
       "      <th>back pain</th>\n",
       "      <th>belly pain</th>\n",
       "      <th>blackheads</th>\n",
       "      <th>bladder discomfort</th>\n",
       "      <th>...</th>\n",
       "      <th>watering from eyes</th>\n",
       "      <th>weakness in limbs</th>\n",
       "      <th>weakness of one body side</th>\n",
       "      <th>weight gain</th>\n",
       "      <th>weight loss</th>\n",
       "      <th>yellow crust ooze</th>\n",
       "      <th>yellow urine</th>\n",
       "      <th>yellowing of eyes</th>\n",
       "      <th>yellowish skin</th>\n",
       "      <th>itching</th>\n",
       "    </tr>\n",
       "  </thead>\n",
       "  <tbody>\n",
       "    <tr>\n",
       "      <th>0</th>\n",
       "      <td>0</td>\n",
       "      <td>0</td>\n",
       "      <td>0</td>\n",
       "      <td>0</td>\n",
       "      <td>0</td>\n",
       "      <td>0</td>\n",
       "      <td>0</td>\n",
       "      <td>0</td>\n",
       "      <td>0</td>\n",
       "      <td>0</td>\n",
       "      <td>...</td>\n",
       "      <td>0</td>\n",
       "      <td>0</td>\n",
       "      <td>0</td>\n",
       "      <td>0</td>\n",
       "      <td>0</td>\n",
       "      <td>0</td>\n",
       "      <td>0</td>\n",
       "      <td>0</td>\n",
       "      <td>0</td>\n",
       "      <td>0</td>\n",
       "    </tr>\n",
       "  </tbody>\n",
       "</table>\n",
       "<p>1 rows × 131 columns</p>\n",
       "</div>"
      ],
      "text/plain": [
       "  abdominal pain abnormal menstruation acidity acute liver failure  \\\n",
       "0              0                     0       0                   0   \n",
       "\n",
       "  altered sensorium anxiety back pain belly pain blackheads  \\\n",
       "0                 0       0         0          0          0   \n",
       "\n",
       "  bladder discomfort  ... watering from eyes weakness in limbs  \\\n",
       "0                  0  ...                  0                 0   \n",
       "\n",
       "  weakness of one body side weight gain weight loss yellow crust ooze  \\\n",
       "0                         0           0           0                 0   \n",
       "\n",
       "  yellow urine yellowing of eyes yellowish skin itching  \n",
       "0            0                 0              0       0  \n",
       "\n",
       "[1 rows x 131 columns]"
      ]
     },
     "execution_count": 23,
     "metadata": {},
     "output_type": "execute_result"
    }
   ],
   "source": [
    "df_test"
   ]
  },
  {
   "cell_type": "code",
   "execution_count": 56,
   "metadata": {},
   "outputs": [],
   "source": [
    "j = \"abdominal pain,abnormal menstruation,acidity,acute liver failure,altered sensorium,anxiety,back pain,belly pain,blackheads,bladder discomfort,blister,blood in sputum, bloody stool, blurred and distorted vision, breathlessness, brittle nails, bruising, burning micturition, chest pain,chills,cold hands and feets,coma,congestion,constipation,continuous feel of urine,continuous sneezing,cough,cramps,dark urine,dehydration,depression,diarrhoea,dischromic  patches,distention of abdomen,dizziness,drying and tingling lips, enlarged thyroid, excessive hunger, extra marital contacts, family history, fast heart rate, fatigue, fluid overload, foul smell of urine, headache, high fever, hip joint pain, history of alcohol consumption, increased appetite, indigestion, inflammatory nails, internal itching, irregular sugar level, irritability, irritation in anus, joint pain, knee pain, lack of concentration, lethargy, loss of appetite, loss of balance, loss of smell, malaise, mild fever, mood swings, movement stiffness, mucoid sputum, muscle pain, muscle wasting, muscle weakness, nausea, neck pain, nodal skin eruptions, obesity, pain behind the eyes, pain during bowel movements, pain in anal region, painful walking, palpitations, passage of gases, patches in throat, phlegm, polyuria, prominent veins on calf, puffy face and eyes, pus filled pimples, receiving blood transfusion, receiving unsterile injections, red sore around nose, red spots over body, redness of eyes, restlessness, runny nose, rusty sputum, scurring, shivering, silver like dusting, sinus pressure, skin peeling, skin rash, slurred speech, small dents in nails, spinning movements, spotting  urination, stiff neck, stomach bleeding, stomach pain, sunken eyes, sweating, swelled lymph nodes, swelling joints, swelling of stomach, swollen blood vessels, swollen extremeties, swollen legs, throat irritation, toxic look (typhos), ulcers on tongue, unsteadiness, visual disturbances, vomiting, watering from eyes, weakness in limbs, weakness of one body side, weight gain, weight loss, yellow crust ooze, yellow urine, yellowing of eyes, yellowish skin,itching,Disease\""
   ]
  },
  {
   "cell_type": "code",
   "execution_count": 57,
   "metadata": {},
   "outputs": [],
   "source": [
    "li = j.split(\",\")"
   ]
  },
  {
   "cell_type": "code",
   "execution_count": 12,
   "metadata": {},
   "outputs": [],
   "source": [
    "k=[]\n",
    "for i in li:\n",
    "    k.append(i.strip())\n",
    "p=','.join(k)"
   ]
  },
  {
   "cell_type": "code",
   "execution_count": 4,
   "metadata": {},
   "outputs": [],
   "source": [
    "df = pd.read_csv(\"symptom_Description.csv\")\n",
    "df1 = pd.read_csv(\"symptom_precaution.csv\")"
   ]
  },
  {
   "cell_type": "code",
   "execution_count": 6,
   "metadata": {},
   "outputs": [
    {
     "data": {
      "text/html": [
       "<div>\n",
       "<style scoped>\n",
       "    .dataframe tbody tr th:only-of-type {\n",
       "        vertical-align: middle;\n",
       "    }\n",
       "\n",
       "    .dataframe tbody tr th {\n",
       "        vertical-align: top;\n",
       "    }\n",
       "\n",
       "    .dataframe thead th {\n",
       "        text-align: right;\n",
       "    }\n",
       "</style>\n",
       "<table border=\"1\" class=\"dataframe\">\n",
       "  <thead>\n",
       "    <tr style=\"text-align: right;\">\n",
       "      <th></th>\n",
       "      <th>Disease</th>\n",
       "      <th>Precaution_1</th>\n",
       "      <th>Precaution_2</th>\n",
       "      <th>Precaution_3</th>\n",
       "      <th>Precaution_4</th>\n",
       "    </tr>\n",
       "  </thead>\n",
       "  <tbody>\n",
       "    <tr>\n",
       "      <th>0</th>\n",
       "      <td>Drug Reaction</td>\n",
       "      <td>stop irritation</td>\n",
       "      <td>consult nearest hospital</td>\n",
       "      <td>stop taking drug</td>\n",
       "      <td>follow up</td>\n",
       "    </tr>\n",
       "    <tr>\n",
       "      <th>1</th>\n",
       "      <td>Malaria</td>\n",
       "      <td>Consult nearest hospital</td>\n",
       "      <td>avoid oily food</td>\n",
       "      <td>avoid non veg food</td>\n",
       "      <td>keep mosquitos out</td>\n",
       "    </tr>\n",
       "    <tr>\n",
       "      <th>2</th>\n",
       "      <td>Allergy</td>\n",
       "      <td>apply calamine</td>\n",
       "      <td>cover area with bandage</td>\n",
       "      <td>NaN</td>\n",
       "      <td>use ice to compress itching</td>\n",
       "    </tr>\n",
       "    <tr>\n",
       "      <th>3</th>\n",
       "      <td>Hypothyroidism</td>\n",
       "      <td>reduce stress</td>\n",
       "      <td>exercise</td>\n",
       "      <td>eat healthy</td>\n",
       "      <td>get proper sleep</td>\n",
       "    </tr>\n",
       "    <tr>\n",
       "      <th>4</th>\n",
       "      <td>Psoriasis</td>\n",
       "      <td>wash hands with warm soapy water</td>\n",
       "      <td>stop bleeding using pressure</td>\n",
       "      <td>consult doctor</td>\n",
       "      <td>salt baths</td>\n",
       "    </tr>\n",
       "  </tbody>\n",
       "</table>\n",
       "</div>"
      ],
      "text/plain": [
       "          Disease                      Precaution_1  \\\n",
       "0   Drug Reaction                   stop irritation   \n",
       "1         Malaria          Consult nearest hospital   \n",
       "2         Allergy                    apply calamine   \n",
       "3  Hypothyroidism                     reduce stress   \n",
       "4       Psoriasis  wash hands with warm soapy water   \n",
       "\n",
       "                   Precaution_2        Precaution_3  \\\n",
       "0      consult nearest hospital    stop taking drug   \n",
       "1               avoid oily food  avoid non veg food   \n",
       "2       cover area with bandage                 NaN   \n",
       "3                      exercise         eat healthy   \n",
       "4  stop bleeding using pressure      consult doctor   \n",
       "\n",
       "                  Precaution_4  \n",
       "0                    follow up  \n",
       "1           keep mosquitos out  \n",
       "2  use ice to compress itching  \n",
       "3             get proper sleep  \n",
       "4                   salt baths  "
      ]
     },
     "execution_count": 6,
     "metadata": {},
     "output_type": "execute_result"
    }
   ],
   "source": [
    "df1.head()"
   ]
  },
  {
   "cell_type": "code",
   "execution_count": 31,
   "metadata": {},
   "outputs": [],
   "source": [
    "dk1 = df1[df.Disease==result[0]].drop(\"Disease\" , axis=1).to_dict('list')"
   ]
  },
  {
   "cell_type": "code",
   "execution_count": 32,
   "metadata": {},
   "outputs": [
    {
     "name": "stdout",
     "output_type": "stream",
     "text": [
      "{'Precaution_1': ['apply calamine'], 'Precaution_2': ['cover area with bandage'], 'Precaution_3': [nan], 'Precaution_4': ['use ice to compress itching']}\n"
     ]
    }
   ],
   "source": [
    "print(dk1)"
   ]
  },
  {
   "cell_type": "code",
   "execution_count": 29,
   "metadata": {},
   "outputs": [],
   "source": [
    "dk = df[df.Disease == result[0]].drop(\"Disease\", axis=1).to_dict('list')"
   ]
  },
  {
   "cell_type": "code",
   "execution_count": 30,
   "metadata": {},
   "outputs": [
    {
     "data": {
      "text/html": [
       "<div>\n",
       "<style scoped>\n",
       "    .dataframe tbody tr th:only-of-type {\n",
       "        vertical-align: middle;\n",
       "    }\n",
       "\n",
       "    .dataframe tbody tr th {\n",
       "        vertical-align: top;\n",
       "    }\n",
       "\n",
       "    .dataframe thead th {\n",
       "        text-align: right;\n",
       "    }\n",
       "</style>\n",
       "<table border=\"1\" class=\"dataframe\">\n",
       "  <thead>\n",
       "    <tr style=\"text-align: right;\">\n",
       "      <th></th>\n",
       "      <th>Precaution_1</th>\n",
       "      <th>Precaution_2</th>\n",
       "      <th>Precaution_3</th>\n",
       "      <th>Precaution_4</th>\n",
       "    </tr>\n",
       "  </thead>\n",
       "  <tbody>\n",
       "    <tr>\n",
       "      <th>2</th>\n",
       "      <td>apply calamine</td>\n",
       "      <td>cover area with bandage</td>\n",
       "      <td>NaN</td>\n",
       "      <td>use ice to compress itching</td>\n",
       "    </tr>\n",
       "  </tbody>\n",
       "</table>\n",
       "</div>"
      ],
      "text/plain": [
       "     Precaution_1             Precaution_2 Precaution_3  \\\n",
       "2  apply calamine  cover area with bandage          NaN   \n",
       "\n",
       "                  Precaution_4  \n",
       "2  use ice to compress itching  "
      ]
     },
     "execution_count": 30,
     "metadata": {},
     "output_type": "execute_result"
    }
   ],
   "source": [
    "dk1"
   ]
  },
  {
   "cell_type": "code",
   "execution_count": null,
   "metadata": {},
   "outputs": [],
   "source": []
  }
 ],
 "metadata": {
  "kernelspec": {
   "display_name": "Python 3.8.10 64-bit",
   "language": "python",
   "name": "python3"
  },
  "language_info": {
   "codemirror_mode": {
    "name": "ipython",
    "version": 3
   },
   "file_extension": ".py",
   "mimetype": "text/x-python",
   "name": "python",
   "nbconvert_exporter": "python",
   "pygments_lexer": "ipython3",
   "version": "3.8.10"
  },
  "orig_nbformat": 4,
  "vscode": {
   "interpreter": {
    "hash": "916dbcbb3f70747c44a77c7bcd40155683ae19c65e1c03b4aa3499c5328201f1"
   }
  }
 },
 "nbformat": 4,
 "nbformat_minor": 2
}
